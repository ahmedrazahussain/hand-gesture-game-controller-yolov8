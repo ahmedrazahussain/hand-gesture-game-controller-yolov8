{
 "cells": [
  {
   "cell_type": "code",
   "execution_count": 2,
   "id": "91bd57e7-e79d-43b2-a69d-8635f99f26de",
   "metadata": {},
   "outputs": [],
   "source": [
    "import cv2 as cv\n",
    "from ultralytics import YOLO"
   ]
  },
  {
   "cell_type": "code",
   "execution_count": 3,
   "id": "dd897a3a-0bb6-4e1f-ba1c-c3dd6b7062bb",
   "metadata": {},
   "outputs": [],
   "source": [
    "model = YOLO('hndges.pt')"
   ]
  },
  {
   "cell_type": "code",
   "execution_count": 4,
   "id": "295638b4-1270-443d-b8ed-e6b591c0d92b",
   "metadata": {},
   "outputs": [],
   "source": [
    "import pyautogui"
   ]
  },
  {
   "cell_type": "code",
   "execution_count": 8,
   "id": "49efa8c9-8ea2-4860-bef3-1ef7d19aba31",
   "metadata": {},
   "outputs": [],
   "source": [
    "cap = cv.VideoCapture(0)\n",
    "last_gesture = None\n",
    "while True:\n",
    "    r, frame = cap.read()\n",
    "    if r == True:\n",
    "        results = model(frame, conf=0.5, verbose=False)[0]\n",
    "        gesture = \"none\"\n",
    "        if len(results.boxes)>0:\n",
    "            top_result = results.boxes[0]\n",
    "            cls_id = int(top_result.cls[0])\n",
    "            conf = float(top_result.conf[0])\n",
    "            gesture = model.names[cls_id]\n",
    "        if gesture != last_gesture:\n",
    "            #print(f\"Detected: {gesture}\")\n",
    "            pyautogui.keyUp('left')\n",
    "            pyautogui.keyUp('right')\n",
    "\n",
    "            if gesture == \"open-palm\":\n",
    "                pyautogui.keyDown('up')\n",
    "            elif gesture == \"thumbs-up\":\n",
    "                pyautogui.keyDown('space')\n",
    "            elif gesture == \"two-fingers\":\n",
    "                pyautogui.keyDown('right')\n",
    "            elif gesture == \"four-fingers\":\n",
    "                pyautogui.keyDown('left')\n",
    "            elif gesture == \"fist\":\n",
    "                pyautogui.keyDown('down')\n",
    "\n",
    "           # last_gesture = gesture\n",
    "        cv.putText(frame, f'Detected: {gesture}', (10,30), cv.FONT_HERSHEY_SIMPLEX, 1, (0,255,0),2)\n",
    "        cv.imshow(\"vid\", frame)\n",
    "        if cv.waitKey(30) & 0xff == ord('z'):\n",
    "            break\n",
    "\n",
    "cap.release()\n",
    "cv.destroyAllWindows()\n",
    "                "
   ]
  },
  {
   "cell_type": "code",
   "execution_count": null,
   "id": "05da7d84-9241-431d-8d51-6518d4afcd80",
   "metadata": {},
   "outputs": [],
   "source": []
  }
 ],
 "metadata": {
  "kernelspec": {
   "display_name": "Python 3 (ipykernel)",
   "language": "python",
   "name": "python3"
  },
  "language_info": {
   "codemirror_mode": {
    "name": "ipython",
    "version": 3
   },
   "file_extension": ".py",
   "mimetype": "text/x-python",
   "name": "python",
   "nbconvert_exporter": "python",
   "pygments_lexer": "ipython3",
   "version": "3.13.2"
  }
 },
 "nbformat": 4,
 "nbformat_minor": 5
}
